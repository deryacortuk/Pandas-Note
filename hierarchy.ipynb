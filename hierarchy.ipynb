{
 "cells": [
  {
   "cell_type": "code",
   "execution_count": 1,
   "metadata": {},
   "outputs": [],
   "source": [
    "import numpy as np\n",
    "import pandas as pd\n",
    "from numpy.random import randn"
   ]
  },
  {
   "cell_type": "code",
   "execution_count": 3,
   "metadata": {},
   "outputs": [],
   "source": [
    "outerIn=[\"g1\",\"g1\",\"g1\",\"g2\",\"g2\",\"g2\",\"g3\",\"g3\",\"g3\"]"
   ]
  },
  {
   "cell_type": "code",
   "execution_count": 4,
   "metadata": {},
   "outputs": [],
   "source": [
    "innerIn=[\"i1\",\"i2\",\"i3\",\"i1\",\"i2\",\"i3\",\"i1\",\"i2\",\"i3\"]"
   ]
  },
  {
   "cell_type": "code",
   "execution_count": 5,
   "metadata": {},
   "outputs": [
    {
     "data": {
      "text/plain": [
       "[('g1', 'i1'),\n",
       " ('g1', 'i2'),\n",
       " ('g1', 'i3'),\n",
       " ('g2', 'i1'),\n",
       " ('g2', 'i2'),\n",
       " ('g2', 'i3'),\n",
       " ('g3', 'i1'),\n",
       " ('g3', 'i2'),\n",
       " ('g3', 'i3')]"
      ]
     },
     "execution_count": 5,
     "metadata": {},
     "output_type": "execute_result"
    }
   ],
   "source": [
    "list(zip(outerIn,innerIn))"
   ]
  },
  {
   "cell_type": "code",
   "execution_count": 6,
   "metadata": {},
   "outputs": [],
   "source": [
    "hierarchy= list(zip(outerIn,innerIn))"
   ]
  },
  {
   "cell_type": "code",
   "execution_count": 9,
   "metadata": {},
   "outputs": [],
   "source": [
    "hierarchy = pd.MultiIndex.from_tuples(hierarchy)"
   ]
  },
  {
   "cell_type": "code",
   "execution_count": 10,
   "metadata": {},
   "outputs": [
    {
     "data": {
      "text/plain": [
       "MultiIndex([('g1', 'i1'),\n",
       "            ('g1', 'i2'),\n",
       "            ('g1', 'i3'),\n",
       "            ('g2', 'i1'),\n",
       "            ('g2', 'i2'),\n",
       "            ('g2', 'i3'),\n",
       "            ('g3', 'i1'),\n",
       "            ('g3', 'i2'),\n",
       "            ('g3', 'i3')],\n",
       "           )"
      ]
     },
     "execution_count": 10,
     "metadata": {},
     "output_type": "execute_result"
    }
   ],
   "source": [
    "hierarchy"
   ]
  },
  {
   "cell_type": "code",
   "execution_count": 11,
   "metadata": {},
   "outputs": [],
   "source": [
    "df = pd.DataFrame(randn(9,3),hierarchy,columns=[\"c1\",\"c2\",\"c3\"])"
   ]
  },
  {
   "cell_type": "code",
   "execution_count": 12,
   "metadata": {},
   "outputs": [
    {
     "data": {
      "text/html": [
       "<div>\n",
       "<style scoped>\n",
       "    .dataframe tbody tr th:only-of-type {\n",
       "        vertical-align: middle;\n",
       "    }\n",
       "\n",
       "    .dataframe tbody tr th {\n",
       "        vertical-align: top;\n",
       "    }\n",
       "\n",
       "    .dataframe thead th {\n",
       "        text-align: right;\n",
       "    }\n",
       "</style>\n",
       "<table border=\"1\" class=\"dataframe\">\n",
       "  <thead>\n",
       "    <tr style=\"text-align: right;\">\n",
       "      <th></th>\n",
       "      <th></th>\n",
       "      <th>c1</th>\n",
       "      <th>c2</th>\n",
       "      <th>c3</th>\n",
       "    </tr>\n",
       "  </thead>\n",
       "  <tbody>\n",
       "    <tr>\n",
       "      <th rowspan=\"3\" valign=\"top\">g1</th>\n",
       "      <th>i1</th>\n",
       "      <td>0.930316</td>\n",
       "      <td>0.393189</td>\n",
       "      <td>0.694458</td>\n",
       "    </tr>\n",
       "    <tr>\n",
       "      <th>i2</th>\n",
       "      <td>0.027119</td>\n",
       "      <td>-1.268018</td>\n",
       "      <td>-0.026461</td>\n",
       "    </tr>\n",
       "    <tr>\n",
       "      <th>i3</th>\n",
       "      <td>-1.579700</td>\n",
       "      <td>2.550665</td>\n",
       "      <td>1.173977</td>\n",
       "    </tr>\n",
       "    <tr>\n",
       "      <th rowspan=\"3\" valign=\"top\">g2</th>\n",
       "      <th>i1</th>\n",
       "      <td>0.477546</td>\n",
       "      <td>0.781662</td>\n",
       "      <td>0.121625</td>\n",
       "    </tr>\n",
       "    <tr>\n",
       "      <th>i2</th>\n",
       "      <td>-0.412383</td>\n",
       "      <td>0.634481</td>\n",
       "      <td>1.481377</td>\n",
       "    </tr>\n",
       "    <tr>\n",
       "      <th>i3</th>\n",
       "      <td>-2.051649</td>\n",
       "      <td>-1.965108</td>\n",
       "      <td>-2.318084</td>\n",
       "    </tr>\n",
       "    <tr>\n",
       "      <th rowspan=\"3\" valign=\"top\">g3</th>\n",
       "      <th>i1</th>\n",
       "      <td>-0.689886</td>\n",
       "      <td>-0.114913</td>\n",
       "      <td>0.922160</td>\n",
       "    </tr>\n",
       "    <tr>\n",
       "      <th>i2</th>\n",
       "      <td>1.976687</td>\n",
       "      <td>2.221010</td>\n",
       "      <td>-0.239479</td>\n",
       "    </tr>\n",
       "    <tr>\n",
       "      <th>i3</th>\n",
       "      <td>-2.918516</td>\n",
       "      <td>-0.162647</td>\n",
       "      <td>-0.490254</td>\n",
       "    </tr>\n",
       "  </tbody>\n",
       "</table>\n",
       "</div>"
      ],
      "text/plain": [
       "             c1        c2        c3\n",
       "g1 i1  0.930316  0.393189  0.694458\n",
       "   i2  0.027119 -1.268018 -0.026461\n",
       "   i3 -1.579700  2.550665  1.173977\n",
       "g2 i1  0.477546  0.781662  0.121625\n",
       "   i2 -0.412383  0.634481  1.481377\n",
       "   i3 -2.051649 -1.965108 -2.318084\n",
       "g3 i1 -0.689886 -0.114913  0.922160\n",
       "   i2  1.976687  2.221010 -0.239479\n",
       "   i3 -2.918516 -0.162647 -0.490254"
      ]
     },
     "execution_count": 12,
     "metadata": {},
     "output_type": "execute_result"
    }
   ],
   "source": [
    "df"
   ]
  },
  {
   "cell_type": "code",
   "execution_count": 13,
   "metadata": {},
   "outputs": [
    {
     "data": {
      "text/plain": [
       "g1  i1    0.930316\n",
       "    i2    0.027119\n",
       "    i3   -1.579700\n",
       "g2  i1    0.477546\n",
       "    i2   -0.412383\n",
       "    i3   -2.051649\n",
       "g3  i1   -0.689886\n",
       "    i2    1.976687\n",
       "    i3   -2.918516\n",
       "Name: c1, dtype: float64"
      ]
     },
     "execution_count": 13,
     "metadata": {},
     "output_type": "execute_result"
    }
   ],
   "source": [
    "df[\"c1\"]"
   ]
  },
  {
   "cell_type": "code",
   "execution_count": 14,
   "metadata": {},
   "outputs": [
    {
     "data": {
      "text/html": [
       "<div>\n",
       "<style scoped>\n",
       "    .dataframe tbody tr th:only-of-type {\n",
       "        vertical-align: middle;\n",
       "    }\n",
       "\n",
       "    .dataframe tbody tr th {\n",
       "        vertical-align: top;\n",
       "    }\n",
       "\n",
       "    .dataframe thead th {\n",
       "        text-align: right;\n",
       "    }\n",
       "</style>\n",
       "<table border=\"1\" class=\"dataframe\">\n",
       "  <thead>\n",
       "    <tr style=\"text-align: right;\">\n",
       "      <th></th>\n",
       "      <th>c1</th>\n",
       "      <th>c2</th>\n",
       "      <th>c3</th>\n",
       "    </tr>\n",
       "  </thead>\n",
       "  <tbody>\n",
       "    <tr>\n",
       "      <th>i1</th>\n",
       "      <td>0.477546</td>\n",
       "      <td>0.781662</td>\n",
       "      <td>0.121625</td>\n",
       "    </tr>\n",
       "    <tr>\n",
       "      <th>i2</th>\n",
       "      <td>-0.412383</td>\n",
       "      <td>0.634481</td>\n",
       "      <td>1.481377</td>\n",
       "    </tr>\n",
       "    <tr>\n",
       "      <th>i3</th>\n",
       "      <td>-2.051649</td>\n",
       "      <td>-1.965108</td>\n",
       "      <td>-2.318084</td>\n",
       "    </tr>\n",
       "  </tbody>\n",
       "</table>\n",
       "</div>"
      ],
      "text/plain": [
       "          c1        c2        c3\n",
       "i1  0.477546  0.781662  0.121625\n",
       "i2 -0.412383  0.634481  1.481377\n",
       "i3 -2.051649 -1.965108 -2.318084"
      ]
     },
     "execution_count": 14,
     "metadata": {},
     "output_type": "execute_result"
    }
   ],
   "source": [
    "df.loc[\"g2\"]"
   ]
  },
  {
   "cell_type": "code",
   "execution_count": 15,
   "metadata": {},
   "outputs": [
    {
     "data": {
      "text/html": [
       "<div>\n",
       "<style scoped>\n",
       "    .dataframe tbody tr th:only-of-type {\n",
       "        vertical-align: middle;\n",
       "    }\n",
       "\n",
       "    .dataframe tbody tr th {\n",
       "        vertical-align: top;\n",
       "    }\n",
       "\n",
       "    .dataframe thead th {\n",
       "        text-align: right;\n",
       "    }\n",
       "</style>\n",
       "<table border=\"1\" class=\"dataframe\">\n",
       "  <thead>\n",
       "    <tr style=\"text-align: right;\">\n",
       "      <th></th>\n",
       "      <th></th>\n",
       "      <th>c1</th>\n",
       "      <th>c2</th>\n",
       "      <th>c3</th>\n",
       "    </tr>\n",
       "  </thead>\n",
       "  <tbody>\n",
       "    <tr>\n",
       "      <th rowspan=\"3\" valign=\"top\">g1</th>\n",
       "      <th>i1</th>\n",
       "      <td>0.930316</td>\n",
       "      <td>0.393189</td>\n",
       "      <td>0.694458</td>\n",
       "    </tr>\n",
       "    <tr>\n",
       "      <th>i2</th>\n",
       "      <td>0.027119</td>\n",
       "      <td>-1.268018</td>\n",
       "      <td>-0.026461</td>\n",
       "    </tr>\n",
       "    <tr>\n",
       "      <th>i3</th>\n",
       "      <td>-1.579700</td>\n",
       "      <td>2.550665</td>\n",
       "      <td>1.173977</td>\n",
       "    </tr>\n",
       "    <tr>\n",
       "      <th rowspan=\"3\" valign=\"top\">g3</th>\n",
       "      <th>i1</th>\n",
       "      <td>-0.689886</td>\n",
       "      <td>-0.114913</td>\n",
       "      <td>0.922160</td>\n",
       "    </tr>\n",
       "    <tr>\n",
       "      <th>i2</th>\n",
       "      <td>1.976687</td>\n",
       "      <td>2.221010</td>\n",
       "      <td>-0.239479</td>\n",
       "    </tr>\n",
       "    <tr>\n",
       "      <th>i3</th>\n",
       "      <td>-2.918516</td>\n",
       "      <td>-0.162647</td>\n",
       "      <td>-0.490254</td>\n",
       "    </tr>\n",
       "  </tbody>\n",
       "</table>\n",
       "</div>"
      ],
      "text/plain": [
       "             c1        c2        c3\n",
       "g1 i1  0.930316  0.393189  0.694458\n",
       "   i2  0.027119 -1.268018 -0.026461\n",
       "   i3 -1.579700  2.550665  1.173977\n",
       "g3 i1 -0.689886 -0.114913  0.922160\n",
       "   i2  1.976687  2.221010 -0.239479\n",
       "   i3 -2.918516 -0.162647 -0.490254"
      ]
     },
     "execution_count": 15,
     "metadata": {},
     "output_type": "execute_result"
    }
   ],
   "source": [
    "df.loc[[\"g1\",\"g3\"]]"
   ]
  },
  {
   "cell_type": "code",
   "execution_count": 17,
   "metadata": {},
   "outputs": [
    {
     "data": {
      "text/plain": [
       "-0.41238338386466517"
      ]
     },
     "execution_count": 17,
     "metadata": {},
     "output_type": "execute_result"
    }
   ],
   "source": [
    "df.loc[\"g2\"].loc[\"i2\"][\"c1\"]"
   ]
  },
  {
   "cell_type": "code",
   "execution_count": 18,
   "metadata": {},
   "outputs": [
    {
     "data": {
      "text/html": [
       "<div>\n",
       "<style scoped>\n",
       "    .dataframe tbody tr th:only-of-type {\n",
       "        vertical-align: middle;\n",
       "    }\n",
       "\n",
       "    .dataframe tbody tr th {\n",
       "        vertical-align: top;\n",
       "    }\n",
       "\n",
       "    .dataframe thead th {\n",
       "        text-align: right;\n",
       "    }\n",
       "</style>\n",
       "<table border=\"1\" class=\"dataframe\">\n",
       "  <thead>\n",
       "    <tr style=\"text-align: right;\">\n",
       "      <th></th>\n",
       "      <th></th>\n",
       "      <th>c1</th>\n",
       "      <th>c2</th>\n",
       "      <th>c3</th>\n",
       "    </tr>\n",
       "  </thead>\n",
       "  <tbody>\n",
       "    <tr>\n",
       "      <th rowspan=\"3\" valign=\"top\">g1</th>\n",
       "      <th>i1</th>\n",
       "      <td>0.930316</td>\n",
       "      <td>0.393189</td>\n",
       "      <td>0.694458</td>\n",
       "    </tr>\n",
       "    <tr>\n",
       "      <th>i2</th>\n",
       "      <td>0.027119</td>\n",
       "      <td>-1.268018</td>\n",
       "      <td>-0.026461</td>\n",
       "    </tr>\n",
       "    <tr>\n",
       "      <th>i3</th>\n",
       "      <td>-1.579700</td>\n",
       "      <td>2.550665</td>\n",
       "      <td>1.173977</td>\n",
       "    </tr>\n",
       "    <tr>\n",
       "      <th rowspan=\"3\" valign=\"top\">g2</th>\n",
       "      <th>i1</th>\n",
       "      <td>0.477546</td>\n",
       "      <td>0.781662</td>\n",
       "      <td>0.121625</td>\n",
       "    </tr>\n",
       "    <tr>\n",
       "      <th>i2</th>\n",
       "      <td>-0.412383</td>\n",
       "      <td>0.634481</td>\n",
       "      <td>1.481377</td>\n",
       "    </tr>\n",
       "    <tr>\n",
       "      <th>i3</th>\n",
       "      <td>-2.051649</td>\n",
       "      <td>-1.965108</td>\n",
       "      <td>-2.318084</td>\n",
       "    </tr>\n",
       "    <tr>\n",
       "      <th rowspan=\"3\" valign=\"top\">g3</th>\n",
       "      <th>i1</th>\n",
       "      <td>-0.689886</td>\n",
       "      <td>-0.114913</td>\n",
       "      <td>0.922160</td>\n",
       "    </tr>\n",
       "    <tr>\n",
       "      <th>i2</th>\n",
       "      <td>1.976687</td>\n",
       "      <td>2.221010</td>\n",
       "      <td>-0.239479</td>\n",
       "    </tr>\n",
       "    <tr>\n",
       "      <th>i3</th>\n",
       "      <td>-2.918516</td>\n",
       "      <td>-0.162647</td>\n",
       "      <td>-0.490254</td>\n",
       "    </tr>\n",
       "  </tbody>\n",
       "</table>\n",
       "</div>"
      ],
      "text/plain": [
       "             c1        c2        c3\n",
       "g1 i1  0.930316  0.393189  0.694458\n",
       "   i2  0.027119 -1.268018 -0.026461\n",
       "   i3 -1.579700  2.550665  1.173977\n",
       "g2 i1  0.477546  0.781662  0.121625\n",
       "   i2 -0.412383  0.634481  1.481377\n",
       "   i3 -2.051649 -1.965108 -2.318084\n",
       "g3 i1 -0.689886 -0.114913  0.922160\n",
       "   i2  1.976687  2.221010 -0.239479\n",
       "   i3 -2.918516 -0.162647 -0.490254"
      ]
     },
     "execution_count": 18,
     "metadata": {},
     "output_type": "execute_result"
    }
   ],
   "source": [
    "df"
   ]
  },
  {
   "cell_type": "code",
   "execution_count": 19,
   "metadata": {},
   "outputs": [
    {
     "data": {
      "text/plain": [
       "FrozenList([None, None])"
      ]
     },
     "execution_count": 19,
     "metadata": {},
     "output_type": "execute_result"
    }
   ],
   "source": [
    "df.index.names\n"
   ]
  },
  {
   "cell_type": "code",
   "execution_count": 20,
   "metadata": {},
   "outputs": [],
   "source": [
    "df.index.names=[\"group\",\"index\"]"
   ]
  },
  {
   "cell_type": "code",
   "execution_count": 21,
   "metadata": {},
   "outputs": [
    {
     "data": {
      "text/html": [
       "<div>\n",
       "<style scoped>\n",
       "    .dataframe tbody tr th:only-of-type {\n",
       "        vertical-align: middle;\n",
       "    }\n",
       "\n",
       "    .dataframe tbody tr th {\n",
       "        vertical-align: top;\n",
       "    }\n",
       "\n",
       "    .dataframe thead th {\n",
       "        text-align: right;\n",
       "    }\n",
       "</style>\n",
       "<table border=\"1\" class=\"dataframe\">\n",
       "  <thead>\n",
       "    <tr style=\"text-align: right;\">\n",
       "      <th></th>\n",
       "      <th></th>\n",
       "      <th>c1</th>\n",
       "      <th>c2</th>\n",
       "      <th>c3</th>\n",
       "    </tr>\n",
       "    <tr>\n",
       "      <th>group</th>\n",
       "      <th>index</th>\n",
       "      <th></th>\n",
       "      <th></th>\n",
       "      <th></th>\n",
       "    </tr>\n",
       "  </thead>\n",
       "  <tbody>\n",
       "    <tr>\n",
       "      <th rowspan=\"3\" valign=\"top\">g1</th>\n",
       "      <th>i1</th>\n",
       "      <td>0.930316</td>\n",
       "      <td>0.393189</td>\n",
       "      <td>0.694458</td>\n",
       "    </tr>\n",
       "    <tr>\n",
       "      <th>i2</th>\n",
       "      <td>0.027119</td>\n",
       "      <td>-1.268018</td>\n",
       "      <td>-0.026461</td>\n",
       "    </tr>\n",
       "    <tr>\n",
       "      <th>i3</th>\n",
       "      <td>-1.579700</td>\n",
       "      <td>2.550665</td>\n",
       "      <td>1.173977</td>\n",
       "    </tr>\n",
       "    <tr>\n",
       "      <th rowspan=\"3\" valign=\"top\">g2</th>\n",
       "      <th>i1</th>\n",
       "      <td>0.477546</td>\n",
       "      <td>0.781662</td>\n",
       "      <td>0.121625</td>\n",
       "    </tr>\n",
       "    <tr>\n",
       "      <th>i2</th>\n",
       "      <td>-0.412383</td>\n",
       "      <td>0.634481</td>\n",
       "      <td>1.481377</td>\n",
       "    </tr>\n",
       "    <tr>\n",
       "      <th>i3</th>\n",
       "      <td>-2.051649</td>\n",
       "      <td>-1.965108</td>\n",
       "      <td>-2.318084</td>\n",
       "    </tr>\n",
       "    <tr>\n",
       "      <th rowspan=\"3\" valign=\"top\">g3</th>\n",
       "      <th>i1</th>\n",
       "      <td>-0.689886</td>\n",
       "      <td>-0.114913</td>\n",
       "      <td>0.922160</td>\n",
       "    </tr>\n",
       "    <tr>\n",
       "      <th>i2</th>\n",
       "      <td>1.976687</td>\n",
       "      <td>2.221010</td>\n",
       "      <td>-0.239479</td>\n",
       "    </tr>\n",
       "    <tr>\n",
       "      <th>i3</th>\n",
       "      <td>-2.918516</td>\n",
       "      <td>-0.162647</td>\n",
       "      <td>-0.490254</td>\n",
       "    </tr>\n",
       "  </tbody>\n",
       "</table>\n",
       "</div>"
      ],
      "text/plain": [
       "                   c1        c2        c3\n",
       "group index                              \n",
       "g1    i1     0.930316  0.393189  0.694458\n",
       "      i2     0.027119 -1.268018 -0.026461\n",
       "      i3    -1.579700  2.550665  1.173977\n",
       "g2    i1     0.477546  0.781662  0.121625\n",
       "      i2    -0.412383  0.634481  1.481377\n",
       "      i3    -2.051649 -1.965108 -2.318084\n",
       "g3    i1    -0.689886 -0.114913  0.922160\n",
       "      i2     1.976687  2.221010 -0.239479\n",
       "      i3    -2.918516 -0.162647 -0.490254"
      ]
     },
     "execution_count": 21,
     "metadata": {},
     "output_type": "execute_result"
    }
   ],
   "source": [
    "df"
   ]
  },
  {
   "cell_type": "code",
   "execution_count": 22,
   "metadata": {},
   "outputs": [
    {
     "data": {
      "text/html": [
       "<div>\n",
       "<style scoped>\n",
       "    .dataframe tbody tr th:only-of-type {\n",
       "        vertical-align: middle;\n",
       "    }\n",
       "\n",
       "    .dataframe tbody tr th {\n",
       "        vertical-align: top;\n",
       "    }\n",
       "\n",
       "    .dataframe thead th {\n",
       "        text-align: right;\n",
       "    }\n",
       "</style>\n",
       "<table border=\"1\" class=\"dataframe\">\n",
       "  <thead>\n",
       "    <tr style=\"text-align: right;\">\n",
       "      <th></th>\n",
       "      <th>c1</th>\n",
       "      <th>c2</th>\n",
       "      <th>c3</th>\n",
       "    </tr>\n",
       "    <tr>\n",
       "      <th>index</th>\n",
       "      <th></th>\n",
       "      <th></th>\n",
       "      <th></th>\n",
       "    </tr>\n",
       "  </thead>\n",
       "  <tbody>\n",
       "    <tr>\n",
       "      <th>i1</th>\n",
       "      <td>0.930316</td>\n",
       "      <td>0.393189</td>\n",
       "      <td>0.694458</td>\n",
       "    </tr>\n",
       "    <tr>\n",
       "      <th>i2</th>\n",
       "      <td>0.027119</td>\n",
       "      <td>-1.268018</td>\n",
       "      <td>-0.026461</td>\n",
       "    </tr>\n",
       "    <tr>\n",
       "      <th>i3</th>\n",
       "      <td>-1.579700</td>\n",
       "      <td>2.550665</td>\n",
       "      <td>1.173977</td>\n",
       "    </tr>\n",
       "  </tbody>\n",
       "</table>\n",
       "</div>"
      ],
      "text/plain": [
       "             c1        c2        c3\n",
       "index                              \n",
       "i1     0.930316  0.393189  0.694458\n",
       "i2     0.027119 -1.268018 -0.026461\n",
       "i3    -1.579700  2.550665  1.173977"
      ]
     },
     "execution_count": 22,
     "metadata": {},
     "output_type": "execute_result"
    }
   ],
   "source": [
    "df.loc[\"g1\"]"
   ]
  },
  {
   "cell_type": "code",
   "execution_count": 23,
   "metadata": {},
   "outputs": [
    {
     "data": {
      "text/html": [
       "<div>\n",
       "<style scoped>\n",
       "    .dataframe tbody tr th:only-of-type {\n",
       "        vertical-align: middle;\n",
       "    }\n",
       "\n",
       "    .dataframe tbody tr th {\n",
       "        vertical-align: top;\n",
       "    }\n",
       "\n",
       "    .dataframe thead th {\n",
       "        text-align: right;\n",
       "    }\n",
       "</style>\n",
       "<table border=\"1\" class=\"dataframe\">\n",
       "  <thead>\n",
       "    <tr style=\"text-align: right;\">\n",
       "      <th></th>\n",
       "      <th>c1</th>\n",
       "      <th>c2</th>\n",
       "      <th>c3</th>\n",
       "    </tr>\n",
       "    <tr>\n",
       "      <th>index</th>\n",
       "      <th></th>\n",
       "      <th></th>\n",
       "      <th></th>\n",
       "    </tr>\n",
       "  </thead>\n",
       "  <tbody>\n",
       "    <tr>\n",
       "      <th>i1</th>\n",
       "      <td>0.930316</td>\n",
       "      <td>0.393189</td>\n",
       "      <td>0.694458</td>\n",
       "    </tr>\n",
       "    <tr>\n",
       "      <th>i2</th>\n",
       "      <td>0.027119</td>\n",
       "      <td>-1.268018</td>\n",
       "      <td>-0.026461</td>\n",
       "    </tr>\n",
       "    <tr>\n",
       "      <th>i3</th>\n",
       "      <td>-1.579700</td>\n",
       "      <td>2.550665</td>\n",
       "      <td>1.173977</td>\n",
       "    </tr>\n",
       "  </tbody>\n",
       "</table>\n",
       "</div>"
      ],
      "text/plain": [
       "             c1        c2        c3\n",
       "index                              \n",
       "i1     0.930316  0.393189  0.694458\n",
       "i2     0.027119 -1.268018 -0.026461\n",
       "i3    -1.579700  2.550665  1.173977"
      ]
     },
     "execution_count": 23,
     "metadata": {},
     "output_type": "execute_result"
    }
   ],
   "source": [
    "df.xs(\"g1\")"
   ]
  },
  {
   "cell_type": "code",
   "execution_count": 26,
   "metadata": {},
   "outputs": [
    {
     "data": {
      "text/plain": [
       "0.12162469846348267"
      ]
     },
     "execution_count": 26,
     "metadata": {},
     "output_type": "execute_result"
    }
   ],
   "source": [
    "df.xs(\"g2\").xs(\"i1\").xs(\"c3\")"
   ]
  },
  {
   "cell_type": "code",
   "execution_count": 27,
   "metadata": {},
   "outputs": [
    {
     "data": {
      "text/html": [
       "<div>\n",
       "<style scoped>\n",
       "    .dataframe tbody tr th:only-of-type {\n",
       "        vertical-align: middle;\n",
       "    }\n",
       "\n",
       "    .dataframe tbody tr th {\n",
       "        vertical-align: top;\n",
       "    }\n",
       "\n",
       "    .dataframe thead th {\n",
       "        text-align: right;\n",
       "    }\n",
       "</style>\n",
       "<table border=\"1\" class=\"dataframe\">\n",
       "  <thead>\n",
       "    <tr style=\"text-align: right;\">\n",
       "      <th></th>\n",
       "      <th>c1</th>\n",
       "      <th>c2</th>\n",
       "      <th>c3</th>\n",
       "    </tr>\n",
       "    <tr>\n",
       "      <th>group</th>\n",
       "      <th></th>\n",
       "      <th></th>\n",
       "      <th></th>\n",
       "    </tr>\n",
       "  </thead>\n",
       "  <tbody>\n",
       "    <tr>\n",
       "      <th>g1</th>\n",
       "      <td>0.027119</td>\n",
       "      <td>-1.268018</td>\n",
       "      <td>-0.026461</td>\n",
       "    </tr>\n",
       "    <tr>\n",
       "      <th>g2</th>\n",
       "      <td>-0.412383</td>\n",
       "      <td>0.634481</td>\n",
       "      <td>1.481377</td>\n",
       "    </tr>\n",
       "    <tr>\n",
       "      <th>g3</th>\n",
       "      <td>1.976687</td>\n",
       "      <td>2.221010</td>\n",
       "      <td>-0.239479</td>\n",
       "    </tr>\n",
       "  </tbody>\n",
       "</table>\n",
       "</div>"
      ],
      "text/plain": [
       "             c1        c2        c3\n",
       "group                              \n",
       "g1     0.027119 -1.268018 -0.026461\n",
       "g2    -0.412383  0.634481  1.481377\n",
       "g3     1.976687  2.221010 -0.239479"
      ]
     },
     "execution_count": 27,
     "metadata": {},
     "output_type": "execute_result"
    }
   ],
   "source": [
    "df.xs(\"i2\",level=\"index\")"
   ]
  },
  {
   "cell_type": "code",
   "execution_count": null,
   "metadata": {},
   "outputs": [],
   "source": []
  }
 ],
 "metadata": {
  "kernelspec": {
   "display_name": "Python 3",
   "language": "python",
   "name": "python3"
  },
  "language_info": {
   "codemirror_mode": {
    "name": "ipython",
    "version": 3
   },
   "file_extension": ".py",
   "mimetype": "text/x-python",
   "name": "python",
   "nbconvert_exporter": "python",
   "pygments_lexer": "ipython3",
   "version": "3.8.3"
  }
 },
 "nbformat": 4,
 "nbformat_minor": 4
}
